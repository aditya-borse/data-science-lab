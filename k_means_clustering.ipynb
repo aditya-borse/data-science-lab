{
 "cells": [
  {
   "cell_type": "code",
   "execution_count": null,
   "id": "fb50c0ac-c409-4e2c-a8bc-539694560d17",
   "metadata": {},
   "outputs": [],
   "source": []
  }
 ],
 "metadata": {
  "kernelspec": {
   "display_name": "",
   "name": ""
  },
  "language_info": {
   "name": ""
  }
 },
 "nbformat": 4,
 "nbformat_minor": 5
}
