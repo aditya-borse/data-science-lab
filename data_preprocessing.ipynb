{
 "cells": [
  {
   "cell_type": "markdown",
   "id": "5d95e6db-9b0a-4786-9ac4-ff48b176bb1c",
   "metadata": {},
   "source": [
    "## 1. import all required python libraries"
   ]
  },
  {
   "cell_type": "code",
   "execution_count": null,
   "id": "6a3d4137-5781-41fd-93c4-262988cf8aef",
   "metadata": {},
   "outputs": [],
   "source": [
    "!pip install pandas numpy matplotlib seaborn"
   ]
  },
  {
   "cell_type": "code",
   "execution_count": null,
   "id": "04494912-3772-44ee-bcf7-e97dc6b702a2",
   "metadata": {},
   "outputs": [],
   "source": [
    "import pandas as pd\n",
    "import numpy as np\n",
    "import matplotlib.pyplot as plt\n",
    "import seaborn as sns"
   ]
  },
  {
   "cell_type": "code",
   "execution_count": null,
   "id": "5c631b30-20e8-4f39-a464-de51c95c518f",
   "metadata": {},
   "outputs": [],
   "source": [
    "!pip install kagglehub"
   ]
  },
  {
   "cell_type": "code",
   "execution_count": null,
   "id": "f6ba0f59-9793-418e-8a5d-aba805036710",
   "metadata": {},
   "outputs": [],
   "source": [
    "import kagglehub"
   ]
  },
  {
   "cell_type": "markdown",
   "id": "7bd963f2-c34a-49d2-8f1a-0dc3b826b306",
   "metadata": {},
   "source": [
    "## 2. Locate open source dataset"
   ]
  },
  {
   "cell_type": "code",
   "execution_count": null,
   "id": "a73d48b7-2692-4331-86e1-5e4456c31a73",
   "metadata": {},
   "outputs": [],
   "source": [
    "path = kagglehub.dataset_download('uciml/iris')"
   ]
  },
  {
   "cell_type": "code",
   "execution_count": null,
   "id": "a990006c-e91f-447d-9a55-f648a4cd8f67",
   "metadata": {},
   "outputs": [],
   "source": [
    "print(\"path to dataset: \", path) "
   ]
  },
  {
   "cell_type": "markdown",
   "id": "aa492bc4-cae6-4105-9160-65059d3ca119",
   "metadata": {},
   "source": [
    "## 3. Load the dataset in pandas dataframe"
   ]
  },
  {
   "cell_type": "code",
   "execution_count": null,
   "id": "f4ee483d-fe2a-411a-86db-fbf1b6470946",
   "metadata": {},
   "outputs": [],
   "source": [
    "df = pd.read_csv(path + \"/Iris.csv\")"
   ]
  },
  {
   "cell_type": "markdown",
   "id": "9097d9ba-8c94-45a2-bc68-95a617c077a6",
   "metadata": {},
   "source": [
    "## 4. Display the initial statistics"
   ]
  },
  {
   "cell_type": "code",
   "execution_count": null,
   "id": "74e1046a-560b-42fd-b0f2-9e1e85819608",
   "metadata": {},
   "outputs": [],
   "source": [
    "print(df.head())"
   ]
  },
  {
   "cell_type": "code",
   "execution_count": null,
   "id": "67177171-4da4-4ef8-badf-c48cce9c6570",
   "metadata": {},
   "outputs": [],
   "source": [
    "df.info()"
   ]
  },
  {
   "cell_type": "code",
   "execution_count": null,
   "id": "990d68fc-baa0-4362-bb25-01de58225f70",
   "metadata": {},
   "outputs": [],
   "source": [
    "df.describe()"
   ]
  },
  {
   "cell_type": "code",
   "execution_count": null,
   "id": "97b3dbdc-52b7-4101-9ce0-d9dd50d40c99",
   "metadata": {},
   "outputs": [],
   "source": [
    "df.shape"
   ]
  },
  {
   "cell_type": "markdown",
   "id": "bc17937d-533f-4586-b4d2-163f3ed157c2",
   "metadata": {},
   "source": [
    "## 5. Scanning for inconsistencies"
   ]
  },
  {
   "cell_type": "code",
   "execution_count": null,
   "id": "321aec4d-8d19-42f0-9708-cb97d4848ce9",
   "metadata": {},
   "outputs": [],
   "source": [
    "df.isnull().sum()"
   ]
  },
  {
   "cell_type": "code",
   "execution_count": null,
   "id": "060180c7-5ff0-4292-9fde-cebac00ae6e0",
   "metadata": {},
   "outputs": [],
   "source": [
    "df.describe(include='all')"
   ]
  },
  {
   "attachments": {},
   "cell_type": "markdown",
   "id": "5d276cd2-a460-4a13-85f8-f4be035beed3",
   "metadata": {},
   "source": [
    "## iris dataset has no missing values or inconsistencies. \n",
    "\n",
    "below are few methods to deal with inconsistencies in the dataset if they are present.\n",
    "\n",
    "1. Imputation: process of filling in missing values in a dataset.\n",
    "    - Simple Imputation: filling in missing values with mean, median or mode\n",
    "    - KNN Imputation: filling in missing values with avg of the k nearest neighbours. "
   ]
  },
  {
   "cell_type": "markdown",
   "id": "2b05ccd9-9d4a-4907-9d5f-933fd5b18f63",
   "metadata": {},
   "source": [
    "### Simple Imputation using sklearn SimpleImputer"
   ]
  },
  {
   "cell_type": "code",
   "execution_count": null,
   "id": "935936f0-36c0-45fa-8f1e-f9835a7fead9",
   "metadata": {},
   "outputs": [],
   "source": [
    "!pip install scikit-learn"
   ]
  },
  {
   "cell_type": "code",
   "execution_count": null,
   "id": "a7cc49f7-b00f-43d2-8501-16b761b53e12",
   "metadata": {},
   "outputs": [],
   "source": [
    "from sklearn.impute import SimpleImputer\n",
    "\n",
    "data = np.array([\n",
    "    [1, 2, np.nan],\n",
    "    [4, np.nan, 6],\n",
    "    [np.nan, 8, np.nan]\n",
    "])\n",
    "\n",
    "imputer = SimpleImputer(strategy='mean')\n",
    "\n",
    "imputed_data = imputer.fit_transform(data)\n",
    "\n",
    "print(\"Original data:\\n\", data)\n",
    "print(\"Imputed data:\\n\", imputed_data)"
   ]
  },
  {
   "cell_type": "markdown",
   "id": "8ef390d2-8f51-4938-a271-7a1590498c7b",
   "metadata": {},
   "source": [
    "### KNN imputation using sklearn KNNImputer"
   ]
  },
  {
   "cell_type": "code",
   "execution_count": null,
   "id": "bfd25867-7b49-45bb-adee-6a82ef7da109",
   "metadata": {},
   "outputs": [],
   "source": [
    "from sklearn.impute import KNNImputer\n",
    "\n",
    "knn_imputer = KNNImputer(n_neighbors = 2)\n",
    "knn_imputed_data = knn_imputer.fit_transform(data)\n",
    "\n",
    "print(\"KNN Imputed Data:\\n\", knn_imputed_data)"
   ]
  },
  {
   "cell_type": "markdown",
   "id": "f64902ff-1933-41c4-b865-5273b156f44b",
   "metadata": {},
   "source": [
    "## 6. Outliers detection and handling"
   ]
  },
  {
   "cell_type": "code",
   "execution_count": null,
   "id": "d5d31e03-264c-4fc8-a248-722583ad2a17",
   "metadata": {},
   "outputs": [],
   "source": [
    "nc = df.drop(columns=['Id', 'Species']) # nc is numerical columns\n",
    "Q1 = nc.quantile(0.25)\n",
    "Q3 = nc.quantile(0.75)\n",
    "IQR = Q3 - Q1\n",
    "outliers = ((nc < Q1 - IQR * 1.5 ) | (nc > Q3 + 1.5 * IQR)).any(axis=1)\n",
    "print(outliers)"
   ]
  },
  {
   "cell_type": "markdown",
   "id": "fb845e94-90ab-4c9d-8af4-94ae1cdded09",
   "metadata": {},
   "source": [
    "### There are no outliers in the iris data. \n",
    "\n",
    "Below is a sample outlier detection example."
   ]
  },
  {
   "cell_type": "code",
   "execution_count": null,
   "id": "b5e442eb-fdf7-4eb2-a38f-4aaf2668d368",
   "metadata": {},
   "outputs": [],
   "source": [
    "sample_df = pd.DataFrame({\n",
    "    'col1': [10, 20, 3000, 25],\n",
    "    'col2': [23, 4000, 30, 20]\n",
    "})\n",
    "q1 = sample_df.quantile(0.25)\n",
    "q3 = sample_df.quantile(0.75)\n",
    "iqr = q3 - q1\n",
    "lowerbound = q1 - 1.5 * iqr \n",
    "upperbound = q3 + 1.5 * iqr \n",
    "outliers = ((sample_df < lowerbound) | (sample_df > upperbound)).any(axis=1)\n",
    "print(outliers)"
   ]
  },
  {
   "cell_type": "markdown",
   "id": "20cdb1c2-b499-4f16-a78f-b0569edb0dba",
   "metadata": {},
   "source": [
    "## Transformation / Scaling\n",
    "1. Z Score\n",
    "2. decimal scaling\n",
    "3. min max scaling"
   ]
  },
  {
   "cell_type": "code",
   "execution_count": null,
   "id": "4ef963ce-884d-488c-a9c6-be5b6c49b828",
   "metadata": {},
   "outputs": [],
   "source": [
    "data = pd.DataFrame({\n",
    "    'feature': [20, 40, 60, 80, 100]\n",
    "})\n",
    "\n",
    "# z score normalization\n",
    "mean = data['feature'].mean()\n",
    "std = data['feature'].std()\n",
    "data['z_score_normalized'] = ((data['feature']-mean)/std)\n",
    "\n",
    "# decimal scaling\n",
    "data['decimal_scaled'] = data['feature']/1e2 # 2 over here is j in x / 10 ^ j\n",
    "\n",
    "# min max scaling\n",
    "x_min = data['feature'].min()\n",
    "x_max = data['feature'].max()\n",
    "data['min_max_scaled'] = (data['feature'] - x_min)/(x_max - x_min)\n",
    "\n",
    "print(data)"
   ]
  },
  {
   "cell_type": "markdown",
   "id": "637e4a5c-7024-4547-9b41-f2db504e5146",
   "metadata": {},
   "source": [
    "## 7. Transformation on one column of iris dataset"
   ]
  },
  {
   "cell_type": "code",
   "execution_count": null,
   "id": "c02bde26-3056-46ab-ae25-7a96cd9aeab0",
   "metadata": {},
   "outputs": [],
   "source": [
    "df_transformed = df.copy()\n",
    "df_transformed[\"min_max_scaled_sepal_length\"] = (df_transformed['SepalLengthCm'] - df_transformed['SepalLengthCm'].min()) / (df_transformed['SepalLengthCm'].max() - df_transformed['SepalLengthCm'].min())\n",
    "df_transformed.head()"
   ]
  },
  {
   "cell_type": "markdown",
   "id": "ded56b9f-f09b-4810-a03c-0e1f3156df74",
   "metadata": {},
   "source": [
    "## 8. Turn Calegorical Variables into quantitative variables in python\n",
    "1. One Hot Encoding - creates binary columns for each unique category.\n",
    "2. Label Encoding - assigns a unique integer to each category."
   ]
  },
  {
   "cell_type": "code",
   "execution_count": null,
   "id": "6dfe49b0-9a29-4966-b642-550538f14199",
   "metadata": {},
   "outputs": [],
   "source": [
    "from sklearn.preprocessing import LabelEncoder\n",
    "\n",
    "new_df = pd.DataFrame({\n",
    "    'color': ['Red', 'Blue', 'Green', 'Blue', 'Red'],\n",
    "    'size' : ['S', 'M', 'L', 'M', 'S']\n",
    "})\n",
    "\n",
    "one_hot_encoded = pd.get_dummies(new_df, columns=['color', 'size'])\n",
    "label_encoder = LabelEncoder()\n",
    "new_df_label_encoded = new_df.copy()\n",
    "new_df_label_encoded['color'] = label_encoder.fit_transform(new_df['color'])\n",
    "new_df_label_encoded['size'] = label_encoder.fit_transform(new_df['size'])\n",
    "\n",
    "print(\"original df:\\n\", new_df)\n",
    "print(\"one hot encoded df:\\n\", one_hot_encoded)\n",
    "print(\"label encoded:\\n\", new_df_label_encoded)"
   ]
  }
 ],
 "metadata": {
  "kernelspec": {
   "display_name": "Python 3 (ipykernel)",
   "language": "python",
   "name": "python3"
  },
  "language_info": {
   "codemirror_mode": {
    "name": "ipython",
    "version": 3
   },
   "file_extension": ".py",
   "mimetype": "text/x-python",
   "name": "python",
   "nbconvert_exporter": "python",
   "pygments_lexer": "ipython3",
   "version": "3.12.3"
  }
 },
 "nbformat": 4,
 "nbformat_minor": 5
}
